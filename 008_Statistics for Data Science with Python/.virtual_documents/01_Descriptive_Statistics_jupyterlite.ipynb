





























import numpy as np
import pandas as pd
import matplotlib.pyplot as pyplot





ratings_df=pd.read_csv("https://cf-courses-data.s3.us.cloud-object-storage.appdomain.cloud/IBMDeveloperSkillsNetwork-ST0151EN-SkillsNetwork/labs/teachingratings.csv")



ratings_df











ratings_df.head()





ratings_df.info()





ratings_df.shape











ratings_df.head(10)








ratings_df['students'].mean()





ratings_df['students'].median()





ratings_df['students'].min()





ratings_df['students'].max()





ratings_df.describe()








pyplot.hist(ratings_df['beauty'])











ratings_df.groupby('gender').agg({'beauty':['mean', 'std', 'var']}).reset_index()








tenure_count = ratings_df[ratings_df.tenure == 'yes'].groupby('gender').agg({'tenure': 'count'}).reset_index()





tenure_count['percentage'] = 100 * tenure_count.tenure/tenure_count.tenure.sum()
tenure_count








## insert code here
minority_tenure_count = ratings_df[ratings_df['tenure']=='yes'].groupby('minority').agg({'tenure': 'count'}).reset_index()
minority_tenure_count['percentage'] = 100 * minority_tenure_count.tenure/minority_tenure_count.tenure.sum()
minority_tenure_count


##First filter for the tenured Professors
ratings_df=ratings_df[ratings_df['tenure']=='yes']
### we can use a groupby function for this
## first groupby to get the total sum
tenure_count = ratings_df.groupby('minority').agg({'tenure': 'count'}).reset_index()
# Find the percentage
tenure_count['percentage'] = 100 * tenure_count.tenure/tenure_count.tenure.sum()
##print to see
tenure_count








ratings_df["tenure"].value_counts()


## insert code here
ratings_df.groupby("tenure").agg({"age":["mean", "std"]}).reset_index()








## insert code here
ratings_df["age"].plot(kind="hist")


pyplot.hist(ratings_df['age'])








## insert code here
ratings_df["gender"].value_counts().plot(kind="barh", color=['blue', 'pink'], alpha=0.8, edgecolor='black', linewidth=1.5)





sorted_counts = ratings_df.gender.value_counts().sort_index()

# Create the bar plot with sorted values
pyplot.bar(sorted_counts.index, sorted_counts.values, color=['pink', 'blue'])

# Add labels and title
pyplot.xlabel('Gender')
pyplot.ylabel('Count')
pyplot.title('Gender distribution bar plot')








## insert code here
ratings_df[ratings_df["tenure"]=="yes"]["eval"].median()






