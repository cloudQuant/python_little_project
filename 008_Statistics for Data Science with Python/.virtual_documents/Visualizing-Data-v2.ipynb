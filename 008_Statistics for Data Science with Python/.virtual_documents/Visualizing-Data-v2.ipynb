


























#install specific version of libraries used in lab
!pip install pandas
!pip install numpy
!pip install scipy
!pip install seaborn
!pip install matplotlib





import numpy as np
import pandas as pd
import seaborn as sns
import matplotlib.pyplot as plt 





ratings_url = 'https://cf-courses-data.s3.us.cloud-object-storage.appdomain.cloud/IBMDeveloperSkillsNetwork-ST0151EN-SkillsNetwork/labs/teachingratings.csv'
ratings_df = pd.read_csv(ratings_url)











ratings_df.prof.unique()





ratings_df.prof.nunique()





ratings_df['age'].mean()


ratings_df['age'].std()





no_duplicates_ratings_df = ratings_df.drop_duplicates(subset =['prof'])
no_duplicates_ratings_df.head()





no_duplicates_ratings_df['age'].mean()


no_duplicates_ratings_df['age'].std()





ratings_df.head()





division_eval = ratings_df.groupby('division')[['eval']].mean().reset_index()





sns.set(style="whitegrid")
ax = sns.barplot(x="division", y="eval", data=division_eval)








ax = sns.scatterplot(x='age', y='eval', data=ratings_df)








ax = sns.scatterplot(x='age', y='eval', hue='gender',
                     data=ratings_df)








ax = sns.boxplot(x='credits', y='beauty', data=ratings_df)








sns.catplot(x='gender', kind='count', data=ratings_df)








sns.catplot(x='gender', hue = 'tenure', kind='count', data=ratings_df)








sns.catplot(x='gender', hue = 'tenure', row = 'division',
            kind='count', data=ratings_df,
            height = 3, aspect = 2)








sns.relplot(x="age", y="eval", hue="gender",
            row="tenure",
            data=ratings_df, height = 3, aspect = 2)








ax = sns.distplot(ratings_df['eval'], kde = False)





## use the distplot function from the seaborn library
sns.distplot(ratings_df[ratings_df['gender'] == 'female']['eval'], color='green', kde=False) 
sns.distplot(ratings_df[ratings_df['gender'] == 'male']['eval'], color="orange", kde=False) 
plt.show()





ax = sns.boxplot(x="gender", y="age", data=ratings_df)





ax = sns.boxplot(x="tenure", y="age", hue="gender",
                 data=ratings_df)








print(ratings_df.info())
ratings_df.head()


## insert code
sns.distplot(ratings_df[ratings_df['English_speaker'] == 1]['beauty'], color='green', kde=False) 
sns.distplot(ratings_df[ratings_df['English_speaker'] != 1]['beauty'], color="orange", kde=False) 
plt.show()








## insert code
ax = sns.boxplot(x="age", y="minority",
                 data=ratings_df)











## insert code
sns.catplot(x='tenure', hue = 'minority', row = 'gender',
            kind='count', data=ratings_df,
            height = 3, aspect = 2)








## insert code
ax = sns.boxplot(y="age", data=ratings_df)


















