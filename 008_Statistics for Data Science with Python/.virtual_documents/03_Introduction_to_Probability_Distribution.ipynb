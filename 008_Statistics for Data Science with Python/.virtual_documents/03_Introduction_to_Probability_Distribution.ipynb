


























#install specific version of libraries used in lab
#! mamba install pandas==1.3.3
#! mamba install numpy=1.21.2
#! mamba install scipy=1.7.1-y
#!  mamba install matplotlib=3.4.3-y
#!  mamba install statsmodels=0.12.0-y






import numpy as np
import pandas as pd
import matplotlib.pyplot as plt
import scipy.stats
from math import sqrt





ratings_url = 'https://cf-courses-data.s3.us.cloud-object-storage.appdomain.cloud/IBMDeveloperSkillsNetwork-ST0151EN-SkillsNetwork/labs/teachingratings.csv'
ratings_df = pd.read_csv(ratings_url)




















from scipy.stats import norm

# Plot between -4 and 4 with 0.1 steps.
x_axis = np.arange(-4, 4, 0.1)
# Mean = 0, SD = 1.
plt.plot(x_axis, norm.pdf(x_axis, 0, 1))
plt.show()











eval_mean = round(ratings_df['eval'].mean(), 3)
eval_sd = round(ratings_df['eval'].std(), 3)
print(eval_mean, eval_sd)





prob0 = scipy.stats.norm.cdf((4.5 - eval_mean)/eval_sd)
print(1 - prob0)








x1 = 3.5
prob1 = scipy.stats.norm.cdf((x1 - eval_mean)/eval_sd)
print(prob1)





x2 = 4.2
prob2 = scipy.stats.norm.cdf((x2 - eval_mean)/eval_sd)
print(prob2)





round((prob2 - prob1)*100, 1)











## because it is a two-tailed test we multiply by 2
2*round(scipy.stats.norm.cdf((10.7 - 12)/(5.5/sqrt(36))), 3)











## insert code here
x1 = 3.3
prob1 = scipy.stats.norm.cdf((x1 - eval_mean)/eval_sd)
print(1 - prob1)








## insert code here
scipy.stats.norm.cdf((3 - eval_mean)/eval_sd) - scipy.stats.norm.cdf((2 - eval_mean)/eval_sd) 








## insert code here
### find the mean and standard deviation of the 12 IQs
iqs = [116, 111, 101, 120, 99, 94, 106, 115, 107, 101, 110, 92]
sample_size = len(iqs)
degree_freedom = sample_size - 1
iq_mean = sum(iqs) / sample_size
mean_diff = [(iq - iq_mean) ** 2 for iq in iqs]
iq_std = sqrt(sum(mean_diff) / degree_freedom)
variance = iq_std ** 2
print(f"IQ mean is {iq_mean}, sd is {iq_std}, variance is {variance}")
round(1-scipy.stats.norm.cdf((iq_mean - 100)/(iq_std/sqrt(12))), 3)








import numpy as np
from scipy import stats

# 样本数据
iq_scores = np.array([116, 111, 101, 120, 99, 94, 106, 115, 107, 101, 110, 92])

# 零假设的平均值
mu = 100

# 执行单样本 t 检验
t_statistic, p_value = stats.ttest_1samp(iq_scores, mu)

# 由于我们关心的是 μ > 100，所以我们需要将 p 值除以 2
p_value /= 2

# 输出结果
print(f"t-statistic: {t_statistic}")
print(f"p-value: {p_value}")

# 判断是否拒绝零假设
alpha = 0.05
if p_value < alpha:
    print("拒绝零假设 (H0)")
    print("备择假设 (Ha) 成立：平均 IQ 大于 100")
else:
    print("无法拒绝零假设 (H0)")
    print("没有足够的证据表明平均 IQ 大于 100")


import numpy as np
from scipy import stats

# IQ scores data
iq_scores = [116, 111, 101, 120, 99, 94, 106, 115, 107, 101, 110, 92]

# Define the population mean
population_mean = 100

# Calculate the sample mean and standard deviation
sample_mean = np.mean(iq_scores)
sample_std = np.std(iq_scores, ddof=1)  # Use ddof=1 for sample standard deviation
sample_size = len(iq_scores)

# Perform a one-sample t-test
t_statistic, p_value = stats.ttest_1samp(iq_scores, population_mean)

# Since this is a one-tailed test, divide the p-value by 2
p_value /= 2

# Display results
print(f"Sample mean: {sample_mean:.2f}")
print(f"T-statistic: {t_statistic:.2f}")
print(f"P-value: {p_value:.4f}")

# Determine if we reject the null hypothesis
alpha = 0.05
if p_value < alpha and t_statistic > 0:
    print("Reject the null hypothesis: There is evidence that the mean IQ is greater than 100.")
else:
    print("Fail to reject the null hypothesis: There is not enough evidence that the mean IQ is greater than 100.")















