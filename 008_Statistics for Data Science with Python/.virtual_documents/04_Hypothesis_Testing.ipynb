


























#install specific version of libraries used in lab
!pip install pandas
!pip install numpy
!pip install scipy
!pip install seaborn
!pip install matplotlib
!pip install statsmodels





import numpy as np
import pandas as pd
import seaborn as sns
import matplotlib.pyplot as plt
import scipy.stats





ratings_url = 'https://cf-courses-data.s3.us.cloud-object-storage.appdomain.cloud/IBMDeveloperSkillsNetwork-ST0151EN-SkillsNetwork/labs/teachingratings.csv'
ratings_df = pd.read_csv(ratings_url)

















ax = sns.distplot(ratings_df['eval'],
                  bins=20,
                  kde=True,
                  color='red',
                  hist_kws={"linewidth": 15,'alpha':1})
ax.set(xlabel='Normal Distribution', ylabel='Frequency')
## we can assume it is normal





scipy.stats.levene(ratings_df[ratings_df['gender'] == 'female']['eval'],
                   ratings_df[ratings_df['gender'] == 'male']['eval'], center='mean')

# since the p-value is greater than 0.05 we can assume equality of variance





scipy.stats.ttest_ind(ratings_df[ratings_df['gender'] == 'female']['eval'],
                   ratings_df[ratings_df['gender'] == 'male']['eval'], equal_var = True)











ratings_df.loc[(ratings_df['age'] <= 40), 'age_group'] = '40 years and younger'
ratings_df.loc[(ratings_df['age'] > 40)&(ratings_df['age'] < 57), 'age_group'] = 'between 40 and 57 years'
ratings_df.loc[(ratings_df['age'] >= 57), 'age_group'] = '57 years and older'








scipy.stats.levene(ratings_df[ratings_df['age_group'] == '40 years and younger']['beauty'],
                   ratings_df[ratings_df['age_group'] == 'between 40 and 57 years']['beauty'], 
                   ratings_df[ratings_df['age_group'] == '57 years and older']['beauty'], 
                   center='mean')
# since the p-value is less than 0.05, the variance are not equal, for the purposes of this exercise, we will move along





forty_lower = ratings_df[ratings_df['age_group'] == '40 years and younger']['beauty']
forty_fiftyseven = ratings_df[ratings_df['age_group'] == 'between 40 and 57 years']['beauty']
fiftyseven_older = ratings_df[ratings_df['age_group'] == '57 years and older']['beauty']





f_statistic, p_value = scipy.stats.f_oneway(forty_lower, forty_fiftyseven, fiftyseven_older)
print("F_Statistic: {0}, P-Value: {1}".format(f_statistic,p_value))











scipy.stats.levene(ratings_df[ratings_df['age_group'] == '40 years and younger']['eval'],
                   ratings_df[ratings_df['age_group'] == 'between 40 and 57 years']['eval'], 
                   ratings_df[ratings_df['age_group'] == '57 years and older']['eval'], 
                   center='mean')



forty_lower_eval = ratings_df[ratings_df['age_group'] == '40 years and younger']['eval']
forty_fiftyseven_eval = ratings_df[ratings_df['age_group'] == 'between 40 and 57 years']['eval']
fiftyseven_older_eval = ratings_df[ratings_df['age_group'] == '57 years and older']['eval']


f_statistic, p_value = scipy.stats.f_oneway(forty_lower_eval, forty_fiftyseven_eval, fiftyseven_older_eval)
print("F_Statistic: {0}, P-Value: {1}".format(f_statistic,p_value))














cont_table  = pd.crosstab(ratings_df['tenure'], ratings_df['gender'])
cont_table





scipy.stats.chi2_contingency(cont_table, correction = True)














ax = sns.scatterplot(x="beauty", y="eval", data=ratings_df)


scipy.stats.pearsonr(ratings_df['beauty'], ratings_df['eval'])











ratings_df.head()


## insert code here
scipy.stats.levene(ratings_df[ratings_df['tenure'] == 'yes']['eval'],
                   ratings_df[ratings_df['tenure'] != 'yes']['eval'], center='mean')


scipy.stats.ttest_ind(ratings_df[ratings_df['tenure'] == 'yes']['eval'],
                   ratings_df[ratings_df['tenure'] != 'yes']['eval'], equal_var = True)








## insert code here
cont_table  = pd.crosstab(ratings_df['tenure'], ratings_df['age'])
cont_table
scipy.stats.chi2_contingency(cont_table, correction = True)











## insert code here
scipy.stats.levene(ratings_df[ratings_df['tenure'] == 'yes']['beauty'],
                   ratings_df[ratings_df['tenure'] != 'yes']['beauty'], center='mean')








ratings_df.head()


## insert code here
cont_table  = pd.crosstab(ratings_df['tenure'], ratings_df['vismin'])
cont_table
scipy.stats.chi2_contingency(cont_table, correction = True)














a = [9, 11, 10,11,10,12, 9,11,12, 9, 10]
b = [10, 13, 10, 13, 12, 9, 11, 12, 12, 12, 13]
scipy.stats.ttest_ind(a,
                   b, equal_var = True)


# Consider a normally distributed data set with mean μ = 63.18 inches 
# and standard deviation σ= 13.27 inches. What is the z-score when x = 91.54 inches? (To 3 decimal places) 

(91.54 - 63.18)/13.27


import scipy.stats as stats

# 定义参数
mean = 490
std_dev = 20

# 计算Z值
X = 500
Z = (X - mean) / std_dev

# 计算概率
probability = stats.norm.cdf(Z)

print(f"The probability that a randomly selected pill contains at least 500 mg of minerals is: {probability:.4f}")


import scipy.stats as stats

# 定义参数
mean = 90
std_dev = 20

# 计算第一四分位数
first_quartile = stats.norm.ppf(0.25, loc=mean, scale=std_dev)

print(f"The first quartile of the distribution of X is: {first_quartile:.2f} seconds")


















