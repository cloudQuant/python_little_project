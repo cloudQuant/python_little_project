{
 "cells": [
  {
   "cell_type": "markdown",
   "id": "6ef19e65-6de5-468b-ae22-ac82f0bb6678",
   "metadata": {},
   "source": [
    "# Data Science Tools and Ecosystem"
   ]
  },
  {
   "cell_type": "markdown",
   "id": "77ec0e00-15a4-43f6-bcb3-683ea0ab0a1c",
   "metadata": {},
   "source": [
    "In this notebook, Data Science Tools and Ecosystem are summarized."
   ]
  },
  {
   "cell_type": "markdown",
   "id": "7712293d-352b-43a4-ac7a-8ed111bd8fe2",
   "metadata": {},
   "source": [
    "Some of the popular languages that Data Scientists use are:\n",
    "1. sql\n",
    "2. python\n",
    "3. R"
   ]
  },
  {
   "cell_type": "markdown",
   "id": "e82f09cc-3a03-408d-91e2-f2f8da1c12da",
   "metadata": {},
   "source": [
    "Some of the commonly used libraries used by Data Scientists include:\n",
    "1. pandas\n",
    "2. numpy\n",
    "3. matplotlib"
   ]
  },
  {
   "cell_type": "markdown",
   "id": "fee146f6-15b4-47c6-a8d9-20017ebf9a76",
   "metadata": {},
   "source": [
    "| Data Science Tools |\n",
    "|--------------------|\n",
    "| Jupyter Notebook   |\n",
    "| RStudio            |\n",
    "| VS Code            |"
   ]
  },
  {
   "cell_type": "markdown",
   "id": "7699ca79-7b0b-48ed-b539-365789d8e753",
   "metadata": {},
   "source": [
    "### Below are a few examples of evaluating arithmetic expressions in Python."
   ]
  },
  {
   "cell_type": "code",
   "execution_count": 2,
   "id": "6085cefb-e3a8-4af8-9fc5-43d447e0a43c",
   "metadata": {},
   "outputs": [
    {
     "data": {
      "text/plain": [
       "17"
      ]
     },
     "execution_count": 2,
     "metadata": {},
     "output_type": "execute_result"
    }
   ],
   "source": [
    "# This a simple arithmetic expression to mutiply then add integers\n",
    "(3*4)+5"
   ]
  },
  {
   "cell_type": "code",
   "execution_count": 4,
   "id": "24f64163-5819-45b9-9f86-2747eb39ed34",
   "metadata": {},
   "outputs": [
    {
     "name": "stdout",
     "output_type": "stream",
     "text": [
      "200 minutes =  3.3333333333333335 hours\n"
     ]
    }
   ],
   "source": [
    "# This will convert 200 minutes to hours by diving by 60\n",
    "print(\"200 minutes = \", 200/60 ,\"hours\")"
   ]
  },
  {
   "cell_type": "markdown",
   "id": "b64546b1-be93-4ee0-89a0-c8e47794e42b",
   "metadata": {},
   "source": [
    "**Objectives:**\n",
    "\n",
    "- List popular languages for Data Science.\n",
    "- Explore commonly used data science libraries.\n",
    "- Demonstrate basic data manipulation techniques.\n",
    "- Introduce data visualization tools.\n",
    "- Explain the importance of version control in data science projects."
   ]
  },
  {
   "cell_type": "markdown",
   "id": "ab430224-746c-4ff5-b21b-5246603b614c",
   "metadata": {},
   "source": [
    "## Author\n",
    "\n",
    "Jinqi Yun"
   ]
  },
  {
   "cell_type": "code",
   "execution_count": null,
   "id": "c26ca499-761a-45b7-ada4-0c417e57b88d",
   "metadata": {},
   "outputs": [],
   "source": []
  }
 ],
 "metadata": {
  "kernelspec": {
   "display_name": "Python 3 (ipykernel)",
   "language": "python",
   "name": "python3"
  },
  "language_info": {
   "codemirror_mode": {
    "name": "ipython",
    "version": 3
   },
   "file_extension": ".py",
   "mimetype": "text/x-python",
   "name": "python",
   "nbconvert_exporter": "python",
   "pygments_lexer": "ipython3",
   "version": "3.11.5"
  }
 },
 "nbformat": 4,
 "nbformat_minor": 5
}
