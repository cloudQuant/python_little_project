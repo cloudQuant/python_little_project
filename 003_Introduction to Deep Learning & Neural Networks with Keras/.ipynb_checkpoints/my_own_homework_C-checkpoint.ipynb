{
 "cells": [
  {
   "cell_type": "code",
   "execution_count": null,
   "id": "ac3ea311-d09e-4fd2-aede-9ab160fcedca",
   "metadata": {},
   "outputs": [],
   "source": [
    "\"\"\"\n",
    "C. Increate the number of epochs (5 marks)\n",
    "\n",
    "Repeat Part B but use 100 epochs this time for training.\n",
    "\n",
    "How does the mean of the mean squared errors compare to that from Step B?\n",
    "\"\"\""
   ]
  },
  {
   "cell_type": "code",
   "execution_count": null,
   "id": "cd5a7dd6-4241-4fad-9591-fabe9a14ef06",
   "metadata": {},
   "outputs": [],
   "source": [
    "# import packages we need later\n",
    "import pandas as pd\n",
    "import numpy as np\n",
    "import keras\n",
    "from keras.models import Sequential\n",
    "from keras.layers import Dense\n",
    "from sklearn.model_selection import train_test_split\n",
    "from sklearn.metrics import mean_squared_error\n",
    "import warnings\n",
    "warnings.simplefilter('ignore', FutureWarning)\n",
    "# download the data\n",
    "concrete_data = pd.read_csv('https://s3-api.us-geo.objectstorage.softlayer.net/cf-courses-data/CognitiveClass/DL0101EN/labs/data/concrete_data.csv')\n",
    "concrete_data_columns = concrete_data.columns\n",
    "# clean the data\n",
    "predictors = concrete_data[concrete_data_columns[concrete_data_columns != 'Strength']] # all columns except Strength\n",
    "target = concrete_data['Strength'] # Strength column\n",
    "predictors_norm = (predictors - predictors.mean()) / predictors.std()\n",
    "n_cols = predictors_norm.shape[1] # number of predictors"
   ]
  },
  {
   "cell_type": "code",
   "execution_count": null,
   "id": "88b149a5-ce05-4fc2-ad09-8114840ad46a",
   "metadata": {},
   "outputs": [],
   "source": [
    "def cal_performance():\n",
    "    # split train data and test data\n",
    "    X_train, X_test, y_train, y_test = train_test_split(\n",
    "        predictors_norm, target, test_size=0.3, random_state=None)\n",
    "    # complie and fit\n",
    "    model = Sequential()\n",
    "    model.add(Dense(100, activation='relu', input_shape=(n_cols,)))\n",
    "    # model.add(Dense(50, activation='relu'))\n",
    "    model.add(Dense(1))\n",
    "    \n",
    "    # compile model\n",
    "    model.compile(optimizer='adam', loss='mean_squared_error')\n",
    "    # 训练模型\n",
    "    model.fit(X_train, y_train, epochs=10, batch_size=32, verbose=1)\n",
    "    \n",
    "    # 在测试数据上进行预测\n",
    "    y_pred = model.predict(X_test)\n",
    "    \n",
    "    # 使用Scikit-learn的mean_squared_error计算均方误差\n",
    "    mse = mean_squared_error(y_test, y_pred)\n",
    "    print(f'Mean Squared Error: {mse}')\n",
    "    return mse\n",
    "\n",
    "result = []\n",
    "for i in range(50):\n",
    "    result.append(cal_performance())\n",
    "mean_mse = np.mean(result)\n",
    "std_mse = np.std(result)"
   ]
  },
  {
   "cell_type": "code",
   "execution_count": null,
   "id": "bb36283d-00a4-4ded-8066-06809ff5fb81",
   "metadata": {},
   "outputs": [],
   "source": [
    "print(f\"the average mean_squared_error = {mean_mse}, the standard deviation of the mean squared errors = {std_mse}\")"
   ]
  }
 ],
 "metadata": {
  "kernelspec": {
   "display_name": "Python 3 (ipykernel)",
   "language": "python",
   "name": "python3"
  },
  "language_info": {
   "codemirror_mode": {
    "name": "ipython",
    "version": 3
   },
   "file_extension": ".py",
   "mimetype": "text/x-python",
   "name": "python",
   "nbconvert_exporter": "python",
   "pygments_lexer": "ipython3",
   "version": "3.11.5"
  }
 },
 "nbformat": 4,
 "nbformat_minor": 5
}
